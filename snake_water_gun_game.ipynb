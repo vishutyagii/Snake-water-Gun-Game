{
  "nbformat": 4,
  "nbformat_minor": 0,
  "metadata": {
    "colab": {
      "provenance": [],
      "authorship_tag": "ABX9TyOfQxnvy+1geqX9jr33kwgh",
      "include_colab_link": true
    },
    "kernelspec": {
      "name": "python3",
      "display_name": "Python 3"
    },
    "language_info": {
      "name": "python"
    }
  },
  "cells": [
    {
      "cell_type": "markdown",
      "metadata": {
        "id": "view-in-github",
        "colab_type": "text"
      },
      "source": [
        "<a href=\"https://colab.research.google.com/github/vishutyagii/Snake-water-Gun-Game/blob/main/snake_water_gun_game.ipynb\" target=\"_parent\"><img src=\"https://colab.research.google.com/assets/colab-badge.svg\" alt=\"Open In Colab\"/></a>"
      ]
    },
    {
      "cell_type": "code",
      "execution_count": null,
      "metadata": {
        "colab": {
          "base_uri": "https://localhost:8080/"
        },
        "id": "LBvFLW-7q4Qy",
        "outputId": "27e5d3f3-6eba-4b1c-a8a4-71ac03adf0df"
      },
      "outputs": [
        {
          "output_type": "stream",
          "name": "stdout",
          "text": [
            "Comp Turn: Snake(s) Water(w) or Gun(g)?\n"
          ]
        }
      ],
      "source": [
        "import random\n",
        "\n",
        "# Snake Water Gun or Rock Paper Scissors\n",
        "def gameWin(comp, you):\n",
        "    # If two values are equal, declare a tie!\n",
        "    if comp == you:\n",
        "        return None\n",
        "\n",
        "    # Check for all possibilities when computer chose s\n",
        "    elif comp == 's':\n",
        "        if you=='w':\n",
        "            return False\n",
        "        elif you=='g':\n",
        "            return True\n",
        "\n",
        "    # Check for all possibilities when computer chose w\n",
        "    elif comp == 'w':\n",
        "        if you=='g':\n",
        "            return False\n",
        "        elif you=='s':\n",
        "            return True\n",
        "\n",
        "    # Check for all possibilities when computer chose g\n",
        "    elif comp == 'g':\n",
        "        if you=='s':\n",
        "            return False\n",
        "        elif you=='w':\n",
        "            return True\n",
        "\n",
        "print(\"Comp Turn: Snake(s) Water(w) or Gun(g)?\")\n",
        "randNo = random.randint(1, 3)\n",
        "if randNo == 1:\n",
        "    comp = 's'\n",
        "elif randNo == 2:\n",
        "    comp = 'w'\n",
        "elif randNo == 3:\n",
        "    comp = 'g'\n",
        "\n",
        "you = input(\"Your Turn: Snake(s) Water(w) or Gun(g)?\")\n",
        "a = gameWin(comp, you)\n",
        "\n",
        "print(f\"Computer chose {comp}\")\n",
        "print(f\"You chose {you}\")\n",
        "\n",
        "if a == None:\n",
        "    print(\"The game is a tie!\")\n",
        "elif a:\n",
        "    print(\"You Win!\")\n",
        "else:\n",
        "    print(\"You Lose!\")"
      ]
    }
  ]
}